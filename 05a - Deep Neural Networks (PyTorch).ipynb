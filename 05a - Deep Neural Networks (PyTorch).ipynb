{
 "cells": [
  {
   "cell_type": "markdown",
   "metadata": {},
   "source": [
    "# Deep Learning with PyTorch\n",
    "\n",
    "Classical machine learning relies on using statistics to determine relationships between features and labels, and can be very effective for creating predictive models. However, a massive growth in the availability of data coupled with advances in the computing technology required to process it has led to the emergence of new machine learning techniques that mimic the way the brain processes information in a structure called an artificial neural network.\n",
    "\n",
    "PyTorch is a framework for creating machine learning models, including deep neural networks (DNNs). In this example, we'll use PyTorch to create a simple neural network that classifies penguins into species based on the length and depth of their culmen (bill), their flipper length, and their body mass.\n",
    "\n",
    "> **Citation**: The penguins dataset used in the this exercise is a subset of data collected and made available by [Dr. Kristen\n",
    "Gorman](https://www.uaf.edu/cfos/people/faculty/detail/kristen-gorman.php)\n",
    "and the [Palmer Station, Antarctica LTER](https://pal.lternet.edu/), a\n",
    "member of the [Long Term Ecological Research\n",
    "Network](https://lternet.edu/).\n",
    "\n",
    "## Explore the Dataset\n",
    "\n",
    "Before we start using PyTorch to create a model, let's load the data we need from the Palmer Islands penguins dataset, which contains observations of three different species of penguin.\n",
    "\n",
    "> **Note**: In reality, you can solve the penguin classification problem easily using classical machine learning techniques without the need for a deep learning model; but it's a useful, easy to understand dataset with which to demonstrate the principles of neural networks in this notebook."
   ]
  },
  {
   "cell_type": "code",
   "execution_count": 1,
   "metadata": {
    "gather": {
     "logged": 1667448763964
    }
   },
   "outputs": [
    {
     "data": {
      "text/html": [
       "<div>\n",
       "<style scoped>\n",
       "    .dataframe tbody tr th:only-of-type {\n",
       "        vertical-align: middle;\n",
       "    }\n",
       "\n",
       "    .dataframe tbody tr th {\n",
       "        vertical-align: top;\n",
       "    }\n",
       "\n",
       "    .dataframe thead th {\n",
       "        text-align: right;\n",
       "    }\n",
       "</style>\n",
       "<table border=\"1\" class=\"dataframe\">\n",
       "  <thead>\n",
       "    <tr style=\"text-align: right;\">\n",
       "      <th></th>\n",
       "      <th>CulmenLength</th>\n",
       "      <th>CulmenDepth</th>\n",
       "      <th>FlipperLength</th>\n",
       "      <th>BodyMass</th>\n",
       "      <th>Species</th>\n",
       "    </tr>\n",
       "  </thead>\n",
       "  <tbody>\n",
       "    <tr>\n",
       "      <th>111</th>\n",
       "      <td>45.6</td>\n",
       "      <td>20.3</td>\n",
       "      <td>19.1</td>\n",
       "      <td>46.00</td>\n",
       "      <td>0</td>\n",
       "    </tr>\n",
       "    <tr>\n",
       "      <th>90</th>\n",
       "      <td>35.7</td>\n",
       "      <td>18.0</td>\n",
       "      <td>20.2</td>\n",
       "      <td>35.50</td>\n",
       "      <td>0</td>\n",
       "    </tr>\n",
       "    <tr>\n",
       "      <th>1</th>\n",
       "      <td>39.5</td>\n",
       "      <td>17.4</td>\n",
       "      <td>18.6</td>\n",
       "      <td>38.00</td>\n",
       "      <td>0</td>\n",
       "    </tr>\n",
       "    <tr>\n",
       "      <th>104</th>\n",
       "      <td>37.9</td>\n",
       "      <td>18.6</td>\n",
       "      <td>19.3</td>\n",
       "      <td>29.25</td>\n",
       "      <td>0</td>\n",
       "    </tr>\n",
       "    <tr>\n",
       "      <th>148</th>\n",
       "      <td>36.0</td>\n",
       "      <td>17.8</td>\n",
       "      <td>19.5</td>\n",
       "      <td>34.50</td>\n",
       "      <td>0</td>\n",
       "    </tr>\n",
       "    <tr>\n",
       "      <th>39</th>\n",
       "      <td>39.8</td>\n",
       "      <td>19.1</td>\n",
       "      <td>18.4</td>\n",
       "      <td>46.50</td>\n",
       "      <td>0</td>\n",
       "    </tr>\n",
       "    <tr>\n",
       "      <th>298</th>\n",
       "      <td>43.2</td>\n",
       "      <td>16.6</td>\n",
       "      <td>18.7</td>\n",
       "      <td>29.00</td>\n",
       "      <td>2</td>\n",
       "    </tr>\n",
       "    <tr>\n",
       "      <th>264</th>\n",
       "      <td>43.5</td>\n",
       "      <td>15.2</td>\n",
       "      <td>21.3</td>\n",
       "      <td>46.50</td>\n",
       "      <td>1</td>\n",
       "    </tr>\n",
       "    <tr>\n",
       "      <th>8</th>\n",
       "      <td>34.1</td>\n",
       "      <td>18.1</td>\n",
       "      <td>19.3</td>\n",
       "      <td>34.75</td>\n",
       "      <td>0</td>\n",
       "    </tr>\n",
       "    <tr>\n",
       "      <th>40</th>\n",
       "      <td>36.5</td>\n",
       "      <td>18.0</td>\n",
       "      <td>18.2</td>\n",
       "      <td>31.50</td>\n",
       "      <td>0</td>\n",
       "    </tr>\n",
       "  </tbody>\n",
       "</table>\n",
       "</div>"
      ],
      "text/plain": [
       "     CulmenLength  CulmenDepth  FlipperLength  BodyMass  Species\n",
       "111          45.6         20.3           19.1     46.00        0\n",
       "90           35.7         18.0           20.2     35.50        0\n",
       "1            39.5         17.4           18.6     38.00        0\n",
       "104          37.9         18.6           19.3     29.25        0\n",
       "148          36.0         17.8           19.5     34.50        0\n",
       "39           39.8         19.1           18.4     46.50        0\n",
       "298          43.2         16.6           18.7     29.00        2\n",
       "264          43.5         15.2           21.3     46.50        1\n",
       "8            34.1         18.1           19.3     34.75        0\n",
       "40           36.5         18.0           18.2     31.50        0"
      ]
     },
     "execution_count": 1,
     "metadata": {},
     "output_type": "execute_result"
    }
   ],
   "source": [
    "import pandas as pd\r\n",
    "\r\n",
    "# load the training dataset (excluding rows with null values)\r\n",
    "penguins = pd.read_csv('data/penguins.csv').dropna()\r\n",
    "\r\n",
    "# Deep Learning models work best when features are on similar scales\r\n",
    "# In a real solution, we'd implement some custom normalization for each feature, but to keep things simple\r\n",
    "# we'll just rescale the FlipperLength and BodyMass so they're on a similar scale to the bill measurements\r\n",
    "penguins['FlipperLength'] = penguins['FlipperLength']/10\r\n",
    "penguins['BodyMass'] = penguins['BodyMass']/100\r\n",
    "\r\n",
    "# The dataset is too small to be useful for deep learning\r\n",
    "# So we'll oversample it to increase its size\r\n",
    "for i in range(1,3):\r\n",
    "    penguins = penguins.append(penguins)\r\n",
    "\r\n",
    "# Display a random sample of 10 observations\r\n",
    "sample = penguins.sample(10)\r\n",
    "sample"
   ]
  },
  {
   "cell_type": "markdown",
   "metadata": {},
   "source": [
    "The **Species** column is the label our model will predict. Each label value represents a class of penguin species, encoded as 0, 1, or 2. The following code shows the actual species to which these class labels corrrespond."
   ]
  },
  {
   "cell_type": "code",
   "execution_count": 2,
   "metadata": {
    "gather": {
     "logged": 1667448764236
    },
    "tags": []
   },
   "outputs": [
    {
     "name": "stdout",
     "output_type": "stream",
     "text": [
      "['CulmenLength' 'CulmenDepth' 'FlipperLength' 'BodyMass' 'Species'] SpeciesName\n",
      "[ 39.6 20.7 19.1 39.0 0 ] Adelie\n",
      "[ 51.5 18.7 18.7 32.5 2 ] Chinstrap\n",
      "[ 46.5 14.5 21.3 44.0 1 ] Gentoo\n",
      "[ 43.2 18.5 19.2 41.0 0 ] Adelie\n",
      "[ 37.8 17.3 18.0 37.0 0 ] Adelie\n",
      "[ 34.0 17.1 18.5 34.0 0 ] Adelie\n",
      "[ 37.7 16.0 18.3 30.75 0 ] Adelie\n",
      "[ 48.7 15.7 20.8 53.5 1 ] Gentoo\n",
      "[ 34.4 18.4 18.4 33.25 0 ] Adelie\n",
      "[ 44.4 17.3 21.9 52.5 1 ] Gentoo\n"
     ]
    }
   ],
   "source": [
    "penguin_classes = ['Adelie', 'Gentoo', 'Chinstrap']\r\n",
    "print(sample.columns[0:5].values, 'SpeciesName')\r\n",
    "for index, row in penguins.sample(10).iterrows():\r\n",
    "    print('[',row[0], row[1], row[2],row[3], int(row[4]), ']',penguin_classes[int(row[-1])])"
   ]
  },
  {
   "cell_type": "markdown",
   "metadata": {},
   "source": [
    "As is common in a supervised learning problem, we'll split the dataset into a set of records with which to train the model, and a smaller set with which to validate the trained model."
   ]
  },
  {
   "cell_type": "code",
   "execution_count": 3,
   "metadata": {
    "gather": {
     "logged": 1667448771498
    },
    "tags": []
   },
   "outputs": [
    {
     "name": "stdout",
     "output_type": "stream",
     "text": [
      "Training Set: 957, Test Set: 411 \n",
      "\n",
      "Sample of features and labels:\n",
      "[51.1 16.5 22.5 52.5] 1 (Gentoo)\n",
      "[50.7 19.7 20.3 40.5] 2 (Chinstrap)\n",
      "[49.5 16.2 22.9 58. ] 1 (Gentoo)\n",
      "[39.3 20.6 19.  36.5] 0 (Adelie)\n",
      "[42.5 20.7 19.7 45. ] 0 (Adelie)\n",
      "[50.  15.3 22.  55.5] 1 (Gentoo)\n",
      "[50.2  18.7  19.8  37.75] 2 (Chinstrap)\n",
      "[50.7 19.7 20.3 40.5] 2 (Chinstrap)\n",
      "[49.1  14.5  21.2  46.25] 1 (Gentoo)\n",
      "[43.2 16.6 18.7 29. ] 2 (Chinstrap)\n",
      "[38.8  17.6  19.1  32.75] 0 (Adelie)\n",
      "[37.8 17.1 18.6 33. ] 0 (Adelie)\n",
      "[45.8 14.2 21.9 47. ] 1 (Gentoo)\n",
      "[43.8 13.9 20.8 43. ] 1 (Gentoo)\n",
      "[36.  17.1 18.7 37. ] 0 (Adelie)\n",
      "[43.3 13.4 20.9 44. ] 1 (Gentoo)\n",
      "[36.  18.5 18.6 31. ] 0 (Adelie)\n",
      "[41.1  19.   18.2  34.25] 0 (Adelie)\n",
      "[33.1 16.1 17.8 29. ] 0 (Adelie)\n",
      "[40.9 13.7 21.4 46.5] 1 (Gentoo)\n",
      "[45.2 17.8 19.8 39.5] 2 (Chinstrap)\n",
      "[48.4 14.6 21.3 58.5] 1 (Gentoo)\n",
      "[43.6 13.9 21.7 49. ] 1 (Gentoo)\n",
      "[38.5  17.9  19.   33.25] 0 (Adelie)\n"
     ]
    }
   ],
   "source": [
    "from sklearn.model_selection import train_test_split\r\n",
    "\r\n",
    "features = ['CulmenLength','CulmenDepth','FlipperLength','BodyMass']\r\n",
    "label = 'Species'\r\n",
    "   \r\n",
    "# Split data 70%-30% into training set and test set\r\n",
    "x_train, x_test, y_train, y_test = train_test_split(penguins[features].values,\r\n",
    "                                                    penguins[label].values,\r\n",
    "                                                    test_size=0.30,\r\n",
    "                                                    random_state=0)\r\n",
    "\r\n",
    "print ('Training Set: %d, Test Set: %d \\n' % (len(x_train), len(x_test)))\r\n",
    "print(\"Sample of features and labels:\")\r\n",
    "\r\n",
    "# Take a look at the first 25 training features and corresponding labels\r\n",
    "for n in range(0,24):\r\n",
    "    print(x_train[n], y_train[n], '(' + penguin_classes[y_train[n]] + ')')"
   ]
  },
  {
   "cell_type": "markdown",
   "metadata": {},
   "source": [
    "The *features* are the measurements for each penguin observation, and the *label* is a numeric value that indicates the species of penguin that the observation represents (Adelie, Gentoo, or Chinstrap).\n",
    "\n",
    "## Install and import the PyTorch libraries\n",
    "\n",
    "Since we plan to use PyTorch to create our penguin classifier, we'll need to run the following two cells to install and import the PyTorch libraries we intend to use. The specific installation of of PyTorch depends on your operating system and whether your computer has graphics processing units (GPUs) that can be used for high-performance processing via *cuda*. You can find detailed instructions at https://pytorch.org/get-started/locally/."
   ]
  },
  {
   "cell_type": "code",
   "execution_count": 4,
   "metadata": {},
   "outputs": [
    {
     "name": "stdout",
     "output_type": "stream",
     "text": [
      "Looking in links: https://download.pytorch.org/whl/torch_stable.html\n",
      "Collecting torch==1.9.0+cpu\n",
      "  Downloading https://download.pytorch.org/whl/cpu/torch-1.9.0%2Bcpu-cp38-cp38-linux_x86_64.whl (175.5 MB)\n",
      "\u001b[K     |████████████████████████████████| 175.5 MB 14 kB/s s eta 0:00:0101\n",
      "\u001b[?25hCollecting torchvision==0.10.0+cpu\n",
      "  Downloading https://download.pytorch.org/whl/cpu/torchvision-0.10.0%2Bcpu-cp38-cp38-linux_x86_64.whl (15.7 MB)\n",
      "\u001b[K     |████████████████████████████████| 15.7 MB 26.2 MB/s eta 0:00:01\n",
      "\u001b[?25hCollecting torchaudio==0.9.0\n",
      "  Downloading torchaudio-0.9.0-cp38-cp38-manylinux1_x86_64.whl (1.9 MB)\n",
      "\u001b[K     |████████████████████████████████| 1.9 MB 2.0 MB/s eta 0:00:01\n",
      "\u001b[?25hRequirement already satisfied: typing-extensions in /anaconda/envs/azureml_py38/lib/python3.8/site-packages (from torch==1.9.0+cpu) (4.3.0)\n",
      "Requirement already satisfied: pillow>=5.3.0 in /anaconda/envs/azureml_py38/lib/python3.8/site-packages (from torchvision==0.10.0+cpu) (6.2.1)\n",
      "Requirement already satisfied: numpy in /anaconda/envs/azureml_py38/lib/python3.8/site-packages (from torchvision==0.10.0+cpu) (1.21.6)\n",
      "Installing collected packages: torch, torchvision, torchaudio\n",
      "  Attempting uninstall: torch\n",
      "    Found existing installation: torch 1.12.0\n",
      "    Uninstalling torch-1.12.0:\n",
      "      Successfully uninstalled torch-1.12.0\n",
      "  Attempting uninstall: torchvision\n",
      "    Found existing installation: torchvision 0.9.1\n",
      "    Uninstalling torchvision-0.9.1:\n",
      "      Successfully uninstalled torchvision-0.9.1\n",
      "Successfully installed torch-1.9.0+cpu torchaudio-0.9.0 torchvision-0.10.0+cpu\n"
     ]
    }
   ],
   "source": [
    "!pip install torch==1.9.0+cpu torchvision==0.10.0+cpu torchaudio==0.9.0 -f https://download.pytorch.org/whl/torch_stable.html"
   ]
  },
  {
   "cell_type": "code",
   "execution_count": 5,
   "metadata": {
    "gather": {
     "logged": 1667448862426
    },
    "tags": []
   },
   "outputs": [
    {
     "name": "stdout",
     "output_type": "stream",
     "text": [
      "Libraries imported - ready to use PyTorch 1.9.0+cpu\n"
     ]
    }
   ],
   "source": [
    "import torch\r\n",
    "import torch.nn as nn\r\n",
    "import torch.utils.data as td\r\n",
    "\r\n",
    "# Set random seed for reproducability\r\n",
    "torch.manual_seed(0)\r\n",
    "\r\n",
    "print(\"Libraries imported - ready to use PyTorch\", torch.__version__)"
   ]
  },
  {
   "cell_type": "markdown",
   "metadata": {},
   "source": [
    "## Prepare the data for PyTorch\n",
    "\n",
    "PyTorch makes use of *data loaders* to load training and validation data in batches. We've already loaded the data into numpy arrays, but we need to wrap those in PyTorch datasets (in which the data is converted to PyTorch *tensor* objects) and create loaders to read batches from those datasets."
   ]
  },
  {
   "cell_type": "code",
   "execution_count": 6,
   "metadata": {
    "gather": {
     "logged": 1667448862768
    },
    "tags": []
   },
   "outputs": [
    {
     "name": "stdout",
     "output_type": "stream",
     "text": [
      "Ready to load data\n"
     ]
    }
   ],
   "source": [
    "# Create a dataset and loader for the training data and labels\r\n",
    "train_x = torch.Tensor(x_train).float()\r\n",
    "train_y = torch.Tensor(y_train).long()\r\n",
    "train_ds = td.TensorDataset(train_x,train_y)\r\n",
    "train_loader = td.DataLoader(train_ds, batch_size=20,\r\n",
    "    shuffle=False, num_workers=1)\r\n",
    "\r\n",
    "# Create a dataset and loader for the test data and labels\r\n",
    "test_x = torch.Tensor(x_test).float()\r\n",
    "test_y = torch.Tensor(y_test).long()\r\n",
    "test_ds = td.TensorDataset(test_x,test_y)\r\n",
    "test_loader = td.DataLoader(test_ds, batch_size=20,\r\n",
    "    shuffle=False, num_workers=1)\r\n",
    "print('Ready to load data')"
   ]
  },
  {
   "cell_type": "markdown",
   "metadata": {},
   "source": [
    "## Define a neural network\r\n",
    "\r\n",
    "Now we're ready to define our neural network. In this case, we'll create a network that consists of 3 fully-connected layers:\r\n",
    "* An input layer that receives an input value for each feature (in this case, the four penguin measurements) and applies a *ReLU* activation function.\r\n",
    "* A hidden layer that receives ten inputs and applies a *ReLU* activation function.\r\n",
    "* An output layer that generates a non-negative numeric output for each penguin species (which a loss function will translate into classification probabilities for each of the three possible penguin species)."
   ]
  },
  {
   "cell_type": "code",
   "execution_count": 7,
   "metadata": {
    "gather": {
     "logged": 1667448863060
    },
    "tags": []
   },
   "outputs": [
    {
     "name": "stdout",
     "output_type": "stream",
     "text": [
      "PenguinNet(\n",
      "  (fc1): Linear(in_features=4, out_features=10, bias=True)\n",
      "  (fc2): Linear(in_features=10, out_features=10, bias=True)\n",
      "  (fc3): Linear(in_features=10, out_features=3, bias=True)\n",
      ")\n"
     ]
    }
   ],
   "source": [
    "# Number of hidden layer nodes\r\n",
    "hl = 10\r\n",
    "\r\n",
    "# Define the neural network\r\n",
    "class PenguinNet(nn.Module):\r\n",
    "    def __init__(self):\r\n",
    "        super(PenguinNet, self).__init__()\r\n",
    "        self.fc1 = nn.Linear(len(features), hl)\r\n",
    "        self.fc2 = nn.Linear(hl, hl)\r\n",
    "        self.fc3 = nn.Linear(hl, len(penguin_classes))\r\n",
    "\r\n",
    "    def forward(self, x):\r\n",
    "        x = torch.relu(self.fc1(x))\r\n",
    "        x = torch.relu(self.fc2(x))\r\n",
    "        x = torch.relu(self.fc3(x))\r\n",
    "        return x\r\n",
    "\r\n",
    "# Create a model instance from the network\r\n",
    "model = PenguinNet()\r\n",
    "print(model)"
   ]
  },
  {
   "cell_type": "markdown",
   "metadata": {},
   "source": [
    "## Train the model\n",
    "\n",
    "To train the model, we need to repeatedly feed the training values forward through the network, use a loss function to calculate the loss, use an optimizer to backpropagate the weight and bias value adjustments, and validate the model using the test data we withheld.\n",
    "\n",
    "To do this, we'll create a function to train and optimize the model, and function to test the model. Then we'll call these functions iteratively over 50 epochs, logging the loss and accuracy statistics for each epoch."
   ]
  },
  {
   "cell_type": "code",
   "execution_count": 8,
   "metadata": {
    "gather": {
     "logged": 1667448890359
    },
    "tags": []
   },
   "outputs": [
    {
     "name": "stdout",
     "output_type": "stream",
     "text": [
      "Epoch: 1\n",
      "Training set: Average loss: 1.118814\n",
      "Validation set: Average loss: 1.023595, Accuracy: 148/411 (36%)\n",
      "\n",
      "Epoch: 2\n",
      "Training set: Average loss: 1.010274\n",
      "Validation set: Average loss: 0.983460, Accuracy: 163/411 (40%)\n",
      "\n",
      "Epoch: 3\n",
      "Training set: Average loss: 0.965314\n",
      "Validation set: Average loss: 0.934165, Accuracy: 191/411 (46%)\n",
      "\n",
      "Epoch: 4\n",
      "Training set: Average loss: 0.911513\n",
      "Validation set: Average loss: 0.867269, Accuracy: 250/411 (61%)\n",
      "\n",
      "Epoch: 5\n",
      "Training set: Average loss: 0.817720\n",
      "Validation set: Average loss: 0.742112, Accuracy: 272/411 (66%)\n",
      "\n",
      "Epoch: 6\n",
      "Training set: Average loss: 0.733329\n",
      "Validation set: Average loss: 0.691639, Accuracy: 302/411 (73%)\n",
      "\n",
      "Epoch: 7\n",
      "Training set: Average loss: 0.696301\n",
      "Validation set: Average loss: 0.661350, Accuracy: 312/411 (76%)\n",
      "\n",
      "Epoch: 8\n",
      "Training set: Average loss: 0.671731\n",
      "Validation set: Average loss: 0.640087, Accuracy: 327/411 (80%)\n",
      "\n",
      "Epoch: 9\n",
      "Training set: Average loss: 0.653092\n",
      "Validation set: Average loss: 0.624311, Accuracy: 338/411 (82%)\n",
      "\n",
      "Epoch: 10\n",
      "Training set: Average loss: 0.638097\n",
      "Validation set: Average loss: 0.610605, Accuracy: 345/411 (84%)\n",
      "\n",
      "Epoch: 11\n",
      "Training set: Average loss: 0.625696\n",
      "Validation set: Average loss: 0.598022, Accuracy: 345/411 (84%)\n",
      "\n",
      "Epoch: 12\n",
      "Training set: Average loss: 0.614685\n",
      "Validation set: Average loss: 0.588183, Accuracy: 353/411 (86%)\n",
      "\n",
      "Epoch: 13\n",
      "Training set: Average loss: 0.605506\n",
      "Validation set: Average loss: 0.578678, Accuracy: 358/411 (87%)\n",
      "\n",
      "Epoch: 14\n",
      "Training set: Average loss: 0.597361\n",
      "Validation set: Average loss: 0.569911, Accuracy: 361/411 (88%)\n",
      "\n",
      "Epoch: 15\n",
      "Training set: Average loss: 0.590228\n",
      "Validation set: Average loss: 0.562248, Accuracy: 361/411 (88%)\n",
      "\n",
      "Epoch: 16\n",
      "Training set: Average loss: 0.583250\n",
      "Validation set: Average loss: 0.556146, Accuracy: 372/411 (91%)\n",
      "\n",
      "Epoch: 17\n",
      "Training set: Average loss: 0.576846\n",
      "Validation set: Average loss: 0.549725, Accuracy: 375/411 (91%)\n",
      "\n",
      "Epoch: 18\n",
      "Training set: Average loss: 0.571098\n",
      "Validation set: Average loss: 0.544390, Accuracy: 382/411 (93%)\n",
      "\n",
      "Epoch: 19\n",
      "Training set: Average loss: 0.565975\n",
      "Validation set: Average loss: 0.540335, Accuracy: 384/411 (93%)\n",
      "\n",
      "Epoch: 20\n",
      "Training set: Average loss: 0.561476\n",
      "Validation set: Average loss: 0.536972, Accuracy: 389/411 (95%)\n",
      "\n",
      "Epoch: 21\n",
      "Training set: Average loss: 0.557517\n",
      "Validation set: Average loss: 0.532509, Accuracy: 390/411 (95%)\n",
      "\n",
      "Epoch: 22\n",
      "Training set: Average loss: 0.553931\n",
      "Validation set: Average loss: 0.529417, Accuracy: 396/411 (96%)\n",
      "\n",
      "Epoch: 23\n",
      "Training set: Average loss: 0.550773\n",
      "Validation set: Average loss: 0.528216, Accuracy: 397/411 (97%)\n",
      "\n",
      "Epoch: 24\n",
      "Training set: Average loss: 0.547976\n",
      "Validation set: Average loss: 0.523656, Accuracy: 397/411 (97%)\n",
      "\n",
      "Epoch: 25\n",
      "Training set: Average loss: 0.545466\n",
      "Validation set: Average loss: 0.521025, Accuracy: 397/411 (97%)\n",
      "\n",
      "Epoch: 26\n",
      "Training set: Average loss: 0.543647\n",
      "Validation set: Average loss: 0.519855, Accuracy: 400/411 (97%)\n",
      "\n",
      "Epoch: 27\n",
      "Training set: Average loss: 0.542047\n",
      "Validation set: Average loss: 0.517385, Accuracy: 398/411 (97%)\n",
      "\n",
      "Epoch: 28\n",
      "Training set: Average loss: 0.540234\n",
      "Validation set: Average loss: 0.515388, Accuracy: 400/411 (97%)\n",
      "\n",
      "Epoch: 29\n",
      "Training set: Average loss: 0.538977\n",
      "Validation set: Average loss: 0.512899, Accuracy: 401/411 (98%)\n",
      "\n",
      "Epoch: 30\n",
      "Training set: Average loss: 0.537303\n",
      "Validation set: Average loss: 0.512066, Accuracy: 404/411 (98%)\n",
      "\n",
      "Epoch: 31\n",
      "Training set: Average loss: 0.536062\n",
      "Validation set: Average loss: 0.511284, Accuracy: 404/411 (98%)\n",
      "\n",
      "Epoch: 32\n",
      "Training set: Average loss: 0.534580\n",
      "Validation set: Average loss: 0.508444, Accuracy: 404/411 (98%)\n",
      "\n",
      "Epoch: 33\n",
      "Training set: Average loss: 0.533200\n",
      "Validation set: Average loss: 0.507806, Accuracy: 404/411 (98%)\n",
      "\n",
      "Epoch: 34\n",
      "Training set: Average loss: 0.532376\n",
      "Validation set: Average loss: 0.505557, Accuracy: 404/411 (98%)\n",
      "\n",
      "Epoch: 35\n",
      "Training set: Average loss: 0.531220\n",
      "Validation set: Average loss: 0.503028, Accuracy: 404/411 (98%)\n",
      "\n",
      "Epoch: 36\n",
      "Training set: Average loss: 0.529759\n",
      "Validation set: Average loss: 0.502396, Accuracy: 404/411 (98%)\n",
      "\n",
      "Epoch: 37\n",
      "Training set: Average loss: 0.528576\n",
      "Validation set: Average loss: 0.501712, Accuracy: 404/411 (98%)\n",
      "\n",
      "Epoch: 38\n",
      "Training set: Average loss: 0.527694\n",
      "Validation set: Average loss: 0.499238, Accuracy: 404/411 (98%)\n",
      "\n",
      "Epoch: 39\n",
      "Training set: Average loss: 0.526515\n",
      "Validation set: Average loss: 0.498586, Accuracy: 404/411 (98%)\n",
      "\n",
      "Epoch: 40\n",
      "Training set: Average loss: 0.525752\n",
      "Validation set: Average loss: 0.496938, Accuracy: 404/411 (98%)\n",
      "\n",
      "Epoch: 41\n",
      "Training set: Average loss: 0.524745\n",
      "Validation set: Average loss: 0.496314, Accuracy: 405/411 (99%)\n",
      "\n",
      "Epoch: 42\n",
      "Training set: Average loss: 0.524034\n",
      "Validation set: Average loss: 0.494481, Accuracy: 404/411 (98%)\n",
      "\n",
      "Epoch: 43\n",
      "Training set: Average loss: 0.523150\n",
      "Validation set: Average loss: 0.492949, Accuracy: 404/411 (98%)\n",
      "\n",
      "Epoch: 44\n",
      "Training set: Average loss: 0.522167\n",
      "Validation set: Average loss: 0.492328, Accuracy: 404/411 (98%)\n",
      "\n",
      "Epoch: 45\n",
      "Training set: Average loss: 0.521537\n",
      "Validation set: Average loss: 0.490820, Accuracy: 401/411 (98%)\n",
      "\n",
      "Epoch: 46\n",
      "Training set: Average loss: 0.521010\n",
      "Validation set: Average loss: 0.489736, Accuracy: 401/411 (98%)\n",
      "\n",
      "Epoch: 47\n",
      "Training set: Average loss: 0.520252\n",
      "Validation set: Average loss: 0.489686, Accuracy: 404/411 (98%)\n",
      "\n",
      "Epoch: 48\n",
      "Training set: Average loss: 0.519929\n",
      "Validation set: Average loss: 0.488752, Accuracy: 401/411 (98%)\n",
      "\n",
      "Epoch: 49\n",
      "Training set: Average loss: 0.519249\n",
      "Validation set: Average loss: 0.488609, Accuracy: 405/411 (99%)\n",
      "\n",
      "Epoch: 50\n",
      "Training set: Average loss: 0.518899\n",
      "Validation set: Average loss: 0.487255, Accuracy: 401/411 (98%)\n",
      "\n"
     ]
    }
   ],
   "source": [
    "def train(model, data_loader, optimizer):\r\n",
    "    # Set the model to training mode\r\n",
    "    model.train()\r\n",
    "    train_loss = 0\r\n",
    "    \r\n",
    "    for batch, tensor in enumerate(data_loader):\r\n",
    "        data, target = tensor\r\n",
    "        #feedforward\r\n",
    "        optimizer.zero_grad()\r\n",
    "        out = model(data)\r\n",
    "        loss = loss_criteria(out, target)\r\n",
    "        train_loss += loss.item()\r\n",
    "\r\n",
    "        # backpropagate\r\n",
    "        loss.backward()\r\n",
    "        optimizer.step()\r\n",
    "\r\n",
    "    #Return average loss\r\n",
    "    avg_loss = train_loss / (batch+1)\r\n",
    "    print('Training set: Average loss: {:.6f}'.format(avg_loss))\r\n",
    "    return avg_loss\r\n",
    "           \r\n",
    "            \r\n",
    "def test(model, data_loader):\r\n",
    "    # Switch the model to evaluation mode (so we don't backpropagate)\r\n",
    "    model.eval()\r\n",
    "    test_loss = 0\r\n",
    "    correct = 0\r\n",
    "\r\n",
    "    with torch.no_grad():\r\n",
    "        batch_count = 0\r\n",
    "        for batch, tensor in enumerate(data_loader):\r\n",
    "            batch_count += 1\r\n",
    "            data, target = tensor\r\n",
    "            # Get the predictions\r\n",
    "            out = model(data)\r\n",
    "\r\n",
    "            # calculate the loss\r\n",
    "            test_loss += loss_criteria(out, target).item()\r\n",
    "\r\n",
    "            # Calculate the accuracy\r\n",
    "            _, predicted = torch.max(out.data, 1)\r\n",
    "            correct += torch.sum(target==predicted).item()\r\n",
    "            \r\n",
    "    # Calculate the average loss and total accuracy for this epoch\r\n",
    "    avg_loss = test_loss/batch_count\r\n",
    "    print('Validation set: Average loss: {:.6f}, Accuracy: {}/{} ({:.0f}%)\\n'.format(\r\n",
    "        avg_loss, correct, len(data_loader.dataset),\r\n",
    "        100. * correct / len(data_loader.dataset)))\r\n",
    "    \r\n",
    "    # return average loss for the epoch\r\n",
    "    return avg_loss\r\n",
    "\r\n",
    "# Specify the loss criteria (we'll use CrossEntropyLoss for multi-class classification)\r\n",
    "loss_criteria = nn.CrossEntropyLoss()\r\n",
    "\r\n",
    "# Use an \"Adam\" optimizer to adjust weights\r\n",
    "# (see https://pytorch.org/docs/stable/optim.html#algorithms for details of supported algorithms)\r\n",
    "learning_rate = 0.001\r\n",
    "optimizer = torch.optim.Adam(model.parameters(), lr=learning_rate)\r\n",
    "optimizer.zero_grad()\r\n",
    "\r\n",
    "# We'll track metrics for each epoch in these arrays\r\n",
    "epoch_nums = []\r\n",
    "training_loss = []\r\n",
    "validation_loss = []\r\n",
    "\r\n",
    "# Train over 50 epochs\r\n",
    "epochs = 50\r\n",
    "for epoch in range(1, epochs + 1):\r\n",
    "\r\n",
    "    # print the epoch number\r\n",
    "    print('Epoch: {}'.format(epoch))\r\n",
    "    \r\n",
    "    # Feed training data into the model to optimize the weights\r\n",
    "    train_loss = train(model, train_loader, optimizer)\r\n",
    "    \r\n",
    "    # Feed the test data into the model to check its performance\r\n",
    "    test_loss = test(model, test_loader)\r\n",
    "    \r\n",
    "    # Log the metrics for this epoch\r\n",
    "    epoch_nums.append(epoch)\r\n",
    "    training_loss.append(train_loss)\r\n",
    "    validation_loss.append(test_loss)\r\n"
   ]
  },
  {
   "cell_type": "markdown",
   "metadata": {},
   "source": [
    "While the training process is running, let's try to understand what's happening:\r\n",
    "\r\n",
    "1. In each *epoch*, the full set of training data is passed forward through the network. There are four features for each observation, and four corresponding nodes in the input layer - so the features for each observation are passed as a vector of four values to that layer. However, for efficiency, the feature vectors are grouped into batches; so actually a matrix of multiple feature vectors is fed in each time.\r\n",
    "2. The matrix of feature values is processed by a function that performs a weighted sum using initialized weights and bias values. The result of this function is then processed by the activation function for the input layer to constrain the values passed to the nodes in the next layer.\r\n",
    "3. The weighted sum and activation functions are repeated in each layer. Note that the functions operate on vectors and matrices rather than individual scalar values. In other words, the forward pass is essentially a series of nested linear algebra functions. This is the reason data scientists prefer to use computers with graphical processing units (GPUs), since these are optimized for matrix and vector calculations.\r\n",
    "4. In the final layer of the network, the output vectors contain a calculated value for each possible class (in this case, classes 0, 1, and 2). This vector is processed by a *loss function* that converts these values to probabilities and determines how far they are from the expected values based on the actual classes - so for example, suppose the output for a Gentoo penguin (class 1) observation is \\[0.3, 0.4, 0.3\\]. The correct prediction would be \\[0.0, 1.0, 0.0\\], so the variance between the predicted and actual values (how far away each predicted value is from what it should be) is \\[0.3, 0.6, 0.3\\]. This variance is aggregated for each batch and maintained as a running aggregate to calculate the overall level of error (*loss*) incurred by the training data for the epoch. \r\n",
    "5. At the end of each epoch, the validation data is passed through the network, and its loss and accuracy (proportion of correct predictions based on the highest probability value in the output vector) are also calculated. It's important to do this because it enables us to compare the performance of the model using data on which it was not trained, helping us determine if it will generalize well for new data or if it's *overfitted* to the training data.\r\n",
    "6. After all the data has been passed forward through the network, the output of the loss function for the *training* data (but <u>not</u> the *validation* data) is passed to the opimizer. The precise details of how the optimizer processes the loss vary depending on the specific optimization algorithm being used; but fundamentally you can think of the entire network, from the input layer to the loss function as being one big nested (*composite*) function. The optimizer applies some differential calculus to calculate *partial derivatives* for the function with respect to each weight and bias value that was used in the network. It's possible to do this efficiently for a nested function due to something called the *chain rule*, which enables you to determine the derivative of a composite function from the derivatives of its inner function and outer functions. You don't really need to worry about the details of the math here (the optimizer does it for you), but the end result is that the partial derivatives tell us about the slope (or *gradient*) of the loss function with respect to each weight and bias value - in other words, we can determine whether to increase or decrease the weight and bias values in order to decrease the loss.\r\n",
    "7. Having determined in which direction to adjust the weights and biases, the optimizer uses the *learning rate* to determine by how much to adjust them; and then works backwards through the network in a process called *backpropagation* to assign new values to the weights and biases in each layer.\r\n",
    "8. Now the next epoch repeats the whole training, validation, and backpropagation process starting with the revised weights and biases from the previous epoch - which hopefully will result in a lower level of loss.\r\n",
    "9. The process continues like this for 50 epochs.\r\n",
    "\r\n",
    "## Review training and validation loss\r\n",
    "\r\n",
    "After training is complete, we can examine the loss metrics we recorded while training and validating the model. We're really looking for two things:\r\n",
    "* The loss should reduce with each epoch, showing that the model is learning the right weights and biases to predict the correct labels.\r\n",
    "* The training loss and validation loss should follow a similar trend, showing that the model is not overfitting to the training data.\r\n",
    "\r\n",
    "Let's plot the loss metrics and see:"
   ]
  },
  {
   "cell_type": "code",
   "execution_count": 9,
   "metadata": {
    "gather": {
     "logged": 1667448900506
    }
   },
   "outputs": [
    {
     "data": {
      "image/png": "[encoded data removed]",
      "text/plain": [
       "<Figure size 432x288 with 1 Axes>"
      ]
     },
     "metadata": {
      "needs_background": "light"
     },
     "output_type": "display_data"
    }
   ],
   "source": [
    "%matplotlib inline\r\n",
    "from matplotlib import pyplot as plt\r\n",
    "\r\n",
    "plt.plot(epoch_nums, training_loss)\r\n",
    "plt.plot(epoch_nums, validation_loss)\r\n",
    "plt.xlabel('epoch')\r\n",
    "plt.ylabel('loss')\r\n",
    "plt.legend(['training', 'validation'], loc='upper right')\r\n",
    "plt.show()"
   ]
  },
  {
   "cell_type": "markdown",
   "metadata": {},
   "source": [
    "## View the learned weights and biases\n",
    "\n",
    "The trained model consists of the final weights and biases that were determined by the optimizer during training. Based on our network model we should expect the following values for each layer:\n",
    "* Layer 1: There are four input values going to ten output nodes, so there should be 10 x 4 weights and 10 bias values.\n",
    "* Layer 2: There are ten input values going to ten output nodes, so there should be 10 x 10 weights and 10 bias values.\n",
    "* Layer 3: There are ten input values going to three output nodes, so there should be 3 x 10 weights and 3 bias values."
   ]
  },
  {
   "cell_type": "code",
   "execution_count": 10,
   "metadata": {
    "gather": {
     "logged": 1667448901669
    },
    "tags": []
   },
   "outputs": [
    {
     "name": "stdout",
     "output_type": "stream",
     "text": [
      "fc1.weight \n",
      " [[-0.00374341  0.2682218  -0.41152257 -0.3679695 ]\n",
      " [-0.17916077 -0.08960588  0.11843123  0.51802725]\n",
      " [-0.04437202  0.13230628 -0.15110654 -0.09828269]\n",
      " [-0.47767425 -0.33114105 -0.20611155  0.01852179]\n",
      " [ 0.22086571  0.57115096 -0.4008635  -0.18697418]\n",
      " [ 0.3158044   0.24776897 -0.20200168  0.39890504]\n",
      " [-0.08059168  0.05290705  0.4527381  -0.46383518]\n",
      " [-0.3545517  -0.15797208 -0.23337851  0.39141223]\n",
      " [-0.32408983 -0.23016644 -0.34932023 -0.4682805 ]\n",
      " [-0.4734979   0.8002842   0.3018041   0.15444146]]\n",
      "fc1.bias \n",
      " [ 0.02629578 -0.20744473  0.08459234 -0.46684736 -0.35585785 -0.45410085\n",
      "  0.31546897  0.25728968 -0.22174752  0.24439506]\n",
      "fc2.weight \n",
      " [[ 0.20224684  0.31437248  0.12550516  0.04272011  0.21202639 -0.18619564\n",
      "   0.05892716 -0.24517313 -0.21917309 -0.16335806]\n",
      " [ 0.14308454  0.08098811 -0.18731831  0.09553465  0.74755675 -0.01170832\n",
      "   0.01207406  0.03671878  0.1961803   0.7177288 ]\n",
      " [-0.24369256 -0.09593003  0.12428064  0.2620103   0.4403398   0.32761884\n",
      "   0.06293392 -0.24256474  0.02909058 -0.64388657]\n",
      " [-0.29470977  0.43695047  0.24044687 -0.31544605 -0.6518736  -0.03367813\n",
      "  -0.0520388  -0.09720273  0.12160734 -0.44795004]\n",
      " [ 0.11592636  0.15991893  0.22637847  0.11824109 -0.31298175 -0.20513597\n",
      "   0.15789728  0.0661869  -0.24668422 -0.1820901 ]\n",
      " [ 0.29749104  0.33983672 -0.13788326 -0.07958972 -1.0037643   0.04011772\n",
      "  -0.23813814 -0.21048176 -0.01742402 -0.21410419]\n",
      " [-0.12950484  0.18764247 -0.19243696  0.28693563  0.21671085 -0.26666948\n",
      "  -0.07870413  0.01426903  0.04613797  0.07500109]\n",
      " [ 0.12409671  0.0189421  -0.15429662  0.1496355  -0.30334112 -0.1874303\n",
      "  -0.07916125 -0.15403877 -0.11062703 -0.25918713]\n",
      " [-0.06726643  0.16598713 -0.20601156 -0.01622861 -0.10633208 -0.07815903\n",
      "   0.00878867  0.00450953  0.06399861  0.46543366]\n",
      " [ 0.29954556  0.20082231  0.30023092 -0.02287011 -0.2840742  -0.14991638\n",
      "   0.21532114 -0.00204994 -0.15717986 -0.24232906]]\n",
      "fc2.bias \n",
      " [-0.2959424  -0.09140171 -0.240913    0.11557584  0.17096572 -0.3224679\n",
      "  0.1972572  -0.24745122  0.03521875 -0.1282217 ]\n",
      "fc3.weight \n",
      " [[-0.0609103  -0.06208901 -0.28376696 -0.27304304 -0.04948315  0.00408951\n",
      "  -0.14365433  0.11912275 -0.28462344 -0.02134134]\n",
      " [ 0.27809685 -0.41300258  0.27310088  0.7309681  -0.2853832   0.65255624\n",
      "  -0.03649094 -0.14116624 -0.00454535 -0.25554213]\n",
      " [ 0.0339328  -0.19290859  0.7193423  -0.31080076  0.15194914 -0.33142653\n",
      "  -0.07604478 -0.06650443 -1.1165304   0.17134616]]\n",
      "fc3.bias \n",
      " [ 0.25107792  0.10447469 -0.2418088 ]\n"
     ]
    }
   ],
   "source": [
    "for param_tensor in model.state_dict():\n",
    "    print(param_tensor, \"\\n\", model.state_dict()[param_tensor].numpy())"
   ]
  },
  {
   "cell_type": "markdown",
   "metadata": {},
   "source": [
    "## Evaluate model performance\n",
    "\n",
    "So, is the model any good? The raw accuracy reported from the validation data would seem to indicate that it predicts pretty well; but it's typically useful to dig a little deeper and compare the predictions for each possible class. A common way to visualize the performance of a classification model is to create a *confusion matrix* that shows a crosstab of correct and incorrect predictions for each class."
   ]
  },
  {
   "cell_type": "code",
   "execution_count": 11,
   "metadata": {
    "gather": {
     "logged": 1667448902257
    }
   },
   "outputs": [
    {
     "data": {
      "image/png": "[encoded data removed]",
      "text/plain": [
       "<Figure size 432x288 with 2 Axes>"
      ]
     },
     "metadata": {
      "needs_background": "light"
     },
     "output_type": "display_data"
    }
   ],
   "source": [
    "#Pytorch doesn't have a built-in confusion matrix metric, so we'll use SciKit-Learn\n",
    "from sklearn.metrics import confusion_matrix\n",
    "import numpy as np\n",
    "\n",
    "# Set the model to evaluate mode\n",
    "model.eval()\n",
    "\n",
    "# Get predictions for the test data\n",
    "x = torch.Tensor(x_test).float()\n",
    "_, predicted = torch.max(model(x).data, 1)\n",
    "\n",
    "# Plot the confusion matrix\n",
    "cm = confusion_matrix(y_test, predicted.numpy())\n",
    "plt.imshow(cm, interpolation=\"nearest\", cmap=plt.cm.Blues)\n",
    "plt.colorbar()\n",
    "tick_marks = np.arange(len(penguin_classes))\n",
    "plt.xticks(tick_marks, penguin_classes, rotation=45)\n",
    "plt.yticks(tick_marks, penguin_classes)\n",
    "plt.xlabel(\"Predicted Species\")\n",
    "plt.ylabel(\"Actual Species\")\n",
    "plt.show()"
   ]
  },
  {
   "cell_type": "markdown",
   "metadata": {},
   "source": [
    "The confusion matrix should show a strong diagonal line indicating that there are more correct than incorrect predictions for each class.\n",
    "\n",
    "## Save the trained model\n",
    "Now that we have a model we believe is reasonably accurate, we can save its trained weights for use later."
   ]
  },
  {
   "cell_type": "code",
   "execution_count": 12,
   "metadata": {
    "gather": {
     "logged": 1667448902631
    }
   },
   "outputs": [
    {
     "name": "stdout",
     "output_type": "stream",
     "text": [
      "model saved as models/penguin_classifier.pt\n"
     ]
    }
   ],
   "source": [
    "# Save the model weights\n",
    "model_file = 'models/penguin_classifier.pt'\n",
    "torch.save(model.state_dict(), model_file)\n",
    "del model\n",
    "print('model saved as', model_file)"
   ]
  },
  {
   "cell_type": "markdown",
   "metadata": {},
   "source": [
    "## Use the trained model\n",
    "\n",
    "When we have a new penguin observation, we can use the model to predict the species."
   ]
  },
  {
   "cell_type": "code",
   "execution_count": 13,
   "metadata": {
    "gather": {
     "logged": 1667448902952
    },
    "tags": []
   },
   "outputs": [
    {
     "name": "stdout",
     "output_type": "stream",
     "text": [
      "New sample: [[50.4, 15.3, 20, 50]]\n",
      "Prediction: Gentoo\n"
     ]
    }
   ],
   "source": [
    "# New penguin features\n",
    "x_new = [[50.4,15.3,20,50]]\n",
    "print ('New sample: {}'.format(x_new))\n",
    "\n",
    "# Create a new model class and load weights\n",
    "model = PenguinNet()\n",
    "model.load_state_dict(torch.load(model_file))\n",
    "\n",
    "# Set model to evaluation mode\n",
    "model.eval()\n",
    "\n",
    "# Get a prediction for the new data sample\n",
    "x = torch.Tensor(x_new).float()\n",
    "_, predicted = torch.max(model(x).data, 1)\n",
    "\n",
    "print('Prediction:',penguin_classes[predicted.item()])"
   ]
  },
  {
   "cell_type": "markdown",
   "metadata": {},
   "source": [
    "## Learn more\n",
    "\n",
    "This notebook was designed to help you understand the basic concepts and principles involved in deep neural networks, using a simple PyTorch example. To learn more about PyTorch, take a look at the [tutorials on the PyTorch web site](https://pytorch.org/tutorials/)."
   ]
  }
 ],
 "metadata": {
  "kernel_info": {
   "name": "python38-azureml"
  },
  "kernelspec": {
   "display_name": "Python 3.8 - AzureML",
   "language": "python",
   "name": "python38-azureml"
  },
  "language_info": {
   "codemirror_mode": {
    "name": "ipython",
    "version": 3
   },
   "file_extension": ".py",
   "mimetype": "text/x-python",
   "name": "python",
   "nbconvert_exporter": "python",
   "pygments_lexer": "ipython3",
   "version": "3.8.5"
  },
  "nteract": {
   "version": "nteract-front-end@1.0.0"
  }
 },
 "nbformat": 4,
 "nbformat_minor": 2
}
